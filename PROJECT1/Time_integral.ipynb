{
 "cells": [
  {
   "cell_type": "code",
   "execution_count": 1,
   "id": "f46075ac",
   "metadata": {},
   "outputs": [],
   "source": [
    "import integral_methods as im\n",
    "import scipy as si\n",
    "import numpy as np"
   ]
  },
  {
   "cell_type": "code",
   "execution_count": 2,
   "id": "896a6057",
   "metadata": {},
   "outputs": [],
   "source": [
    "# Defining the integral\n",
    "def E_field(x, z=1):\n",
    "    return z*(z+x**2)**(-3/2)"
   ]
  },
  {
   "cell_type": "code",
   "execution_count": 3,
   "id": "bf078a96",
   "metadata": {},
   "outputs": [],
   "source": [
    "lower_bound = 0\n",
    "upper_bound = 5\n",
    "number_of_itterations = 1000\n",
    "width = abs((upper_bound-lower_bound)/number_of_itterations)\n",
    "x_vals = np.arange(lower_bound, upper_bound+width, width)"
   ]
  },
  {
   "cell_type": "code",
   "execution_count": 4,
   "id": "f96885dd",
   "metadata": {},
   "outputs": [
    {
     "name": "stdout",
     "output_type": "stream",
     "text": [
      "13.9 µs ± 138 ns per loop (mean ± std. dev. of 7 runs, 100,000 loops each)\n",
      "13.8 µs ± 140 ns per loop (mean ± std. dev. of 7 runs, 100,000 loops each)\n",
      "15.3 µs ± 131 ns per loop (mean ± std. dev. of 7 runs, 100,000 loops each)\n"
     ]
    }
   ],
   "source": [
    "%timeit left_RS = im.Reimann_Sum(E_field, lower_bound, upper_bound, number_of_itterations, type='left')\n",
    "%timeit right_RS = im.Reimann_Sum(E_field, lower_bound, upper_bound, number_of_itterations, type='right')\n",
    "%timeit mid_point_RS = im.Reimann_Sum(E_field, lower_bound, upper_bound, number_of_itterations, type='midpoint')"
   ]
  },
  {
   "cell_type": "code",
   "execution_count": 5,
   "id": "ab03897a",
   "metadata": {},
   "outputs": [
    {
     "name": "stdout",
     "output_type": "stream",
     "text": [
      "14.5 µs ± 45.6 ns per loop (mean ± std. dev. of 7 runs, 100,000 loops each)\n",
      "15.8 µs ± 26.1 ns per loop (mean ± std. dev. of 7 runs, 100,000 loops each)\n"
     ]
    }
   ],
   "source": [
    "%timeit trepozdial = im.Trapezoidal(E_field, lower_bound, upper_bound, number_of_itterations)\n",
    "%timeit trepozdial_si = si.integrate.trapezoid(E_field(x_vals), dx=width)"
   ]
  },
  {
   "cell_type": "code",
   "execution_count": 6,
   "id": "bb910541",
   "metadata": {},
   "outputs": [
    {
     "name": "stdout",
     "output_type": "stream",
     "text": [
      "25 µs ± 66.3 ns per loop (mean ± std. dev. of 7 runs, 10,000 loops each)\n",
      "15.3 µs ± 36.9 ns per loop (mean ± std. dev. of 7 runs, 100,000 loops each)\n"
     ]
    }
   ],
   "source": [
    "%timeit simpson = im.Simpson(E_field, lower_bound, upper_bound, number_of_itterations)\n",
    "%timeit simpson_si = si.integrate.simpson(E_field(x_vals), dx=width)"
   ]
  },
  {
   "cell_type": "code",
   "execution_count": null,
   "id": "9cb32d55",
   "metadata": {},
   "outputs": [],
   "source": []
  }
 ],
 "metadata": {
  "kernelspec": {
   "display_name": "Python 3 (ipykernel)",
   "language": "python",
   "name": "python3"
  },
  "language_info": {
   "codemirror_mode": {
    "name": "ipython",
    "version": 3
   },
   "file_extension": ".py",
   "mimetype": "text/x-python",
   "name": "python",
   "nbconvert_exporter": "python",
   "pygments_lexer": "ipython3",
   "version": "3.11.4"
  }
 },
 "nbformat": 4,
 "nbformat_minor": 5
}
