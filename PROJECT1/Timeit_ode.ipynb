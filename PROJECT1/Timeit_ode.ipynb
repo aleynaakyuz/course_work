{
 "cells": [
  {
   "cell_type": "code",
   "execution_count": 1,
   "id": "455dc0c5",
   "metadata": {},
   "outputs": [],
   "source": [
    "import ode_methods as om\n",
    "import scipy as si\n",
    "import numpy as np\n",
    "import matplotlib.pyplot as plt"
   ]
  },
  {
   "cell_type": "code",
   "execution_count": 2,
   "id": "10c3cf5a",
   "metadata": {},
   "outputs": [],
   "source": [
    "# Defining ODE\n",
    "def f(y, t):\n",
    "    return np.array([y[3], y[4], y[5], y[1]-y[0], y[2]+y[0]-2*y[1], y[1]-y[2]])"
   ]
  },
  {
   "cell_type": "code",
   "execution_count": 3,
   "id": "90ea2ab5",
   "metadata": {},
   "outputs": [
    {
     "name": "stdout",
     "output_type": "stream",
     "text": [
      "1.41 s ± 11.4 ms per loop (mean ± std. dev. of 7 runs, 1 loop each)\n"
     ]
    }
   ],
   "source": [
    "%timeit y, t = om.Runge_Kuta(f, dur = [0, 50], y = [[-1.8, 0.8, 1.0, 0, 0, 0]], num_step=100000)"
   ]
  },
  {
   "cell_type": "code",
   "execution_count": 5,
   "id": "1b9dc164",
   "metadata": {},
   "outputs": [],
   "source": [
    "# Defining ODE\n",
    "def f(t, y):\n",
    "    return np.array([y[3], y[4], y[5], y[1]-y[0], y[2]+y[0]-2*y[1], y[1]-y[2]])"
   ]
  },
  {
   "cell_type": "code",
   "execution_count": 6,
   "id": "689c2df2",
   "metadata": {},
   "outputs": [
    {
     "name": "stdout",
     "output_type": "stream",
     "text": [
      "33.4 ms ± 1.1 ms per loop (mean ± std. dev. of 7 runs, 10 loops each)\n"
     ]
    }
   ],
   "source": [
    "%timeit x, u = om.Euler(f, np.array([0, 50]), np.array([-1.8, 0.8, 1.0, 0, 0, 0]), 10000)\n"
   ]
  },
  {
   "cell_type": "code",
   "execution_count": 7,
   "id": "92cbe180",
   "metadata": {},
   "outputs": [
    {
     "name": "stdout",
     "output_type": "stream",
     "text": [
      "2.46 ms ± 112 µs per loop (mean ± std. dev. of 7 runs, 1 loop each)\n"
     ]
    }
   ],
   "source": [
    "%timeit soln=si.integrate.solve_ivp(f, [0, 50], [-1.8, 0.8, 1.0, 0, 0, 0], dense_output=True)\n"
   ]
  }
 ],
 "metadata": {
  "kernelspec": {
   "display_name": "Python 3 (ipykernel)",
   "language": "python",
   "name": "python3"
  },
  "language_info": {
   "codemirror_mode": {
    "name": "ipython",
    "version": 3
   },
   "file_extension": ".py",
   "mimetype": "text/x-python",
   "name": "python",
   "nbconvert_exporter": "python",
   "pygments_lexer": "ipython3",
   "version": "3.11.4"
  }
 },
 "nbformat": 4,
 "nbformat_minor": 5
}
